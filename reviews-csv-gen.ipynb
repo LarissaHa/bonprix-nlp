{
 "cells": [
  {
   "cell_type": "markdown",
   "metadata": {},
   "source": [
    "# Reviews-to-CSV-Generator\n",
    "\n",
    "In this Jupyter-Notebook simply transformes the given CSV into the format of the sqlite3-database from django.\n",
    "\n",
    "**Content:**\n",
    "- Importing necessary packages\n",
    "- Read the data\n",
    "- Add Author field\n",
    "- Saving to CSV"
   ]
  },
  {
   "cell_type": "markdown",
   "metadata": {},
   "source": [
    "## Importing necessary packages"
   ]
  },
  {
   "cell_type": "code",
   "execution_count": 1,
   "metadata": {},
   "outputs": [],
   "source": [
    "import pandas as pd\n",
    "import json\n",
    "import nltk\n",
    "import random \n",
    "#import numpy as np\n",
    "#nltk.download(\"punkt\")\n",
    "import string\n",
    "exclude = set(string.punctuation)\n",
    "import time\n",
    "from tqdm import tqdm\n",
    "import re"
   ]
  },
  {
   "cell_type": "markdown",
   "metadata": {},
   "source": [
    "## Read the data"
   ]
  },
  {
   "cell_type": "code",
   "execution_count": 2,
   "metadata": {},
   "outputs": [],
   "source": [
    "data = pd.read_csv('Datensatz_Coding_Challenge.csv', delimiter=\";\")\n",
    "corpus = data.copy()"
   ]
  },
  {
   "cell_type": "code",
   "execution_count": 6,
   "metadata": {},
   "outputs": [
    {
     "data": {
      "text/html": [
       "<div>\n",
       "<table border=\"1\" class=\"dataframe\">\n",
       "  <thead>\n",
       "    <tr style=\"text-align: right;\">\n",
       "      <th></th>\n",
       "      <th>StyleID</th>\n",
       "      <th>text</th>\n",
       "      <th>rating</th>\n",
       "      <th>author</th>\n",
       "      <th>date</th>\n",
       "    </tr>\n",
       "  </thead>\n",
       "  <tbody>\n",
       "    <tr>\n",
       "      <th>0</th>\n",
       "      <td>1709054</td>\n",
       "      <td>Die sind okay und dann für den Preis.</td>\n",
       "      <td>5</td>\n",
       "      <td>Unkown</td>\n",
       "      <td>2019-01-28 15:05:07</td>\n",
       "    </tr>\n",
       "    <tr>\n",
       "      <th>1</th>\n",
       "      <td>1709054</td>\n",
       "      <td>Qualität und Preis sind gut. Leider sind sie z...</td>\n",
       "      <td>3</td>\n",
       "      <td>Unkown</td>\n",
       "      <td>2019-01-28 15:05:07</td>\n",
       "    </tr>\n",
       "    <tr>\n",
       "      <th>2</th>\n",
       "      <td>8623725</td>\n",
       "      <td>lässt schlanker aussehen</td>\n",
       "      <td>5</td>\n",
       "      <td>Unkown</td>\n",
       "      <td>2019-01-28 15:05:07</td>\n",
       "    </tr>\n",
       "    <tr>\n",
       "      <th>3</th>\n",
       "      <td>8623725</td>\n",
       "      <td>Material und Farbe gut. Da einige Kundinnen in...</td>\n",
       "      <td>3</td>\n",
       "      <td>Unkown</td>\n",
       "      <td>2019-01-28 15:05:07</td>\n",
       "    </tr>\n",
       "    <tr>\n",
       "      <th>4</th>\n",
       "      <td>9743730</td>\n",
       "      <td>Material ist schön zum verdunkel.  Leider doch...</td>\n",
       "      <td>5</td>\n",
       "      <td>Unkown</td>\n",
       "      <td>2019-01-28 15:05:07</td>\n",
       "    </tr>\n",
       "  </tbody>\n",
       "</table>\n",
       "</div>"
      ],
      "text/plain": [
       "   StyleID                                               text  rating  author  \\\n",
       "0  1709054             Die sind okay und dann für den Preis.        5  Unkown   \n",
       "1  1709054  Qualität und Preis sind gut. Leider sind sie z...       3  Unkown   \n",
       "2  8623725                           lässt schlanker aussehen       5  Unkown   \n",
       "3  8623725  Material und Farbe gut. Da einige Kundinnen in...       3  Unkown   \n",
       "4  9743730  Material ist schön zum verdunkel.  Leider doch...       5  Unkown   \n",
       "\n",
       "                  date  \n",
       "0  2019-01-28 15:05:07  \n",
       "1  2019-01-28 15:05:07  \n",
       "2  2019-01-28 15:05:07  \n",
       "3  2019-01-28 15:05:07  \n",
       "4  2019-01-28 15:05:07  "
      ]
     },
     "execution_count": 6,
     "metadata": {},
     "output_type": "execute_result"
    }
   ],
   "source": [
    "corpus.head()"
   ]
  },
  {
   "cell_type": "markdown",
   "metadata": {},
   "source": [
    "## Add Author field"
   ]
  },
  {
   "cell_type": "code",
   "execution_count": 5,
   "metadata": {},
   "outputs": [],
   "source": [
    "corpus[\"author\"] = \"Unknown\"\n",
    "corpus[\"date\"] = \"2019-01-28 15:05:07\""
   ]
  },
  {
   "cell_type": "markdown",
   "metadata": {},
   "source": [
    "## Saving to CSV"
   ]
  },
  {
   "cell_type": "code",
   "execution_count": 9,
   "metadata": {},
   "outputs": [],
   "source": [
    "review = corpus[[\"author\", \"text\", \"date\", \"rating\", \"StyleID\"]]\n",
    "review.to_csv(\"reviews.csv\", sep=\";\")"
   ]
  }
 ],
 "metadata": {
  "kernelspec": {
   "display_name": "Python 3",
   "language": "python",
   "name": "python3"
  },
  "language_info": {
   "codemirror_mode": {
    "name": "ipython",
    "version": 3
   },
   "file_extension": ".py",
   "mimetype": "text/x-python",
   "name": "python",
   "nbconvert_exporter": "python",
   "pygments_lexer": "ipython3",
   "version": "3.6.8"
  }
 },
 "nbformat": 4,
 "nbformat_minor": 2
}
